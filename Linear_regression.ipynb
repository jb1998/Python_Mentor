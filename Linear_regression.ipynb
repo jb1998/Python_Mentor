{
 "cells": [
  {
   "cell_type": "code",
   "execution_count": 3,
   "metadata": {},
   "outputs": [],
   "source": [
    "import numpy as np\n",
    "from sklearn import datasets\n",
    "import pandas as pd\n",
    "iris = datasets.load_iris()\n",
    "df=pd.DataFrame(iris.data)\n",
    "df.columns = iris.feature_names\n",
    "def test(xtrain,ytrain):\n",
    "\n",
    "    m=((np.mean(xtrain)*np.mean(ytrain))-(np.mean(xtrain*ytrain)))/((np.mean(xtrain)**2)-(np.mean(xtrain**2)))\n",
    "    b=(np.mean(ytrain)) - (m*np.mean(xtrain))\n",
    "    return m, b\n",
    "\n",
    "def predict(xtest,m,b):\n",
    "   \n",
    "    arr=[]\n",
    "    for i in range(len(xtest)):\n",
    "        yy=m*xtest[i]+b\n",
    "        arr.append(yy)\n",
    "    return arr\n",
    "#     for i in range(len(arr)):\n",
    "#         print(arr[i])\n",
    "        \n",
    "def error(exp,actual):\n",
    "    return (abs((np.mean(exp)-np.mean(actual)))/np.mean(actual))\n",
    "def score(Y_true, Y_pred):\n",
    "    num = ((Y_true-Y_pred)**2).sum()\n",
    "    den = ((Y_true - Y_true.mean()) ** 2).sum()\n",
    "    return 1 - num/den\n",
    "from sklearn import cross_validation as cv\n",
    "X_train, X_test, Y_train, Y_test=cv.train_test_split(df['petal width (cm)'],iris.target,test_size=0.2)\n",
    "m, b = test(np.array(X_train),np.array(Y_train))\n",
    "arr=predict(np.array(X_test),m,b)\n"
   ]
  },
  {
   "cell_type": "code",
   "execution_count": 4,
   "metadata": {},
   "outputs": [],
   "source": [
    "import matplotlib.pyplot as plt"
   ]
  },
  {
   "cell_type": "code",
   "execution_count": 7,
   "metadata": {},
   "outputs": [
    {
     "name": "stdout",
     "output_type": "stream",
     "text": [
      "0.921910242092\n"
     ]
    },
    {
     "data": {
      "image/png": "[encoded data removed]",
      "text/plain": [
       "<matplotlib.figure.Figure at 0xa6cd9fafd0>"
      ]
     },
     "metadata": {},
     "output_type": "display_data"
    }
   ],
   "source": [
    "\n",
    "plt.plot(np.array(X_test),arr)\n",
    "plt.scatter(np.array(X_test),Y_test)\n",
    "print(score(np.array(arr),np.array(Y_test)))\n",
    "plt.show()\n"
   ]
  },
  {
   "cell_type": "code",
   "execution_count": null,
   "metadata": {
    "collapsed": true
   },
   "outputs": [],
   "source": []
  },
  {
   "cell_type": "code",
   "execution_count": null,
   "metadata": {
    "collapsed": true
   },
   "outputs": [],
   "source": []
  }
 ],
 "metadata": {
  "kernelspec": {
   "display_name": "Python 3",
   "language": "python",
   "name": "python3"
  },
  "language_info": {
   "codemirror_mode": {
    "name": "ipython",
    "version": 3
   },
   "file_extension": ".py",
   "mimetype": "text/x-python",
   "name": "python",
   "nbconvert_exporter": "python",
   "pygments_lexer": "ipython3",
   "version": "3.6.3"
  }
 },
 "nbformat": 4,
 "nbformat_minor": 2
}
